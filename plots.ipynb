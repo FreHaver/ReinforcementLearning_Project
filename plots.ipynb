{
 "cells": [
  {
   "cell_type": "code",
   "execution_count": 30,
   "metadata": {},
   "outputs": [
    {
     "data": {
      "text/plain": [
       "[1]"
      ]
     },
     "execution_count": 30,
     "metadata": {},
     "output_type": "execute_result"
    }
   ],
   "source": [
    "import numpy as np\n",
    "import matplotlib.pyplot as plt\n",
    "from discrete_states import compute_bins, converge_state\n",
    "from tqdm import tqdm as _tqdm\n",
    "from windy_gridworld import WindyGridworldEnv\n",
    "from gridworld import GridworldEnv\n",
    "from collections import defaultdict\n",
    "import random\n",
    "from abc import abstractmethod\n",
    "import gym\n",
    "\n",
    "import sys\n",
    "\n",
    "import torch\n",
    "from torch import nn\n",
    "import torch.nn.functional as F\n",
    "from torch import optim\n",
    "from neural_nets import QNetwork, ModelNetwork\n",
    "from helpers import q_learning, is_done, ReplayMemory, get_epsilon, smooth\n",
    "from model import DynaQ, TabularDynaQ, DeepDynaQ\n",
    "\n",
    "env = gym.envs.make(\"CartPole-v0\")\n",
    "seed = 1\n",
    "\n",
    "random.seed(seed)\n",
    "torch.manual_seed(seed)\n",
    "env.seed(seed)\n",
    "\n"
   ]
  },
  {
   "cell_type": "markdown",
   "metadata": {},
   "source": [
    "# Deep Q-network"
   ]
  },
  {
   "cell_type": "code",
   "execution_count": 31,
   "metadata": {},
   "outputs": [],
   "source": [
    "class QNetwork(nn.Module):\n",
    "    \n",
    "    def __init__(self, num_hidden=128):\n",
    "        nn.Module.__init__(self)\n",
    "        self.l1 = nn.Linear(4, num_hidden)\n",
    "        self.l2 = nn.Linear(num_hidden, 2)\n",
    "\n",
    "    def forward(self, x):\n",
    "        \n",
    "        return self.l2(torch.relu(self.l1(x)))\n",
    "    \n",
    "def select_action(model, state, epsilon):\n",
    "    random_number = random.uniform(0, 1)\n",
    "    if random_number < epsilon:\n",
    "        a = random.choice([0, 1])\n",
    "    else:\n",
    "        x = torch.FloatTensor(state)\n",
    "        with torch.no_grad():\n",
    "            a = model(x).argmax().item()\n",
    "    return a\n",
    "\n",
    "\n",
    "def compute_q_val(model, state, action):\n",
    "    action_values = model(state)\n",
    "    return action_values[torch.arange(0, state.size(0)), action]\n",
    "    \n",
    "def compute_target(model, reward, next_state, done, discount_factor):\n",
    "    # done is a boolean (vector) that indicates if next_state is terminal (episode is done)\n",
    "    \n",
    "    # calculate Q values next state for batch\n",
    "    action_values = model(next_state)  # [B, 2]\n",
    "    \n",
    "    # get max action values for batch\n",
    "    max_action_values, _ = action_values.max(dim=1)\n",
    "    \n",
    "    # calculate targets\n",
    "    targets = reward + discount_factor * max_action_values\n",
    "    \n",
    "    # targets for terminal state equals 0\n",
    "    targets[(done == 1)] = 0\n",
    "    \n",
    "    return targets\n",
    "\n",
    "def train(model, memory, optimizer, batch_size, discount_factor):\n",
    "    # DO NOT MODIFY THIS FUNCTION\n",
    "    \n",
    "    # don't learn without some decent experience\n",
    "    if len(memory) < batch_size:\n",
    "        return None\n",
    "\n",
    "    # random transition batch is taken from experience replay memory\n",
    "    transitions = memory.sample(batch_size)\n",
    "    \n",
    "    # transition is a list of 4-tuples, instead we want 4 vectors (as torch.Tensor's)\n",
    "    state, action, reward, next_state, done = zip(*transitions)\n",
    "    \n",
    "    # convert to PyTorch and define types\n",
    "    state = torch.tensor(state, dtype=torch.float)\n",
    "    action = torch.tensor(action, dtype=torch.int64)  # Need 64 bit to use them as index\n",
    "    next_state = torch.tensor(next_state, dtype=torch.float)\n",
    "    reward = torch.tensor(reward, dtype=torch.float)\n",
    "    done = torch.tensor(done, dtype=torch.uint8)  # Boolean\n",
    "    \n",
    "    # compute the q value\n",
    "    q_val = compute_q_val(model, state, action)\n",
    "    \n",
    "    with torch.no_grad():  # Don't compute gradient info for the target (semi-gradient)\n",
    "        target = compute_target(model, reward, next_state, done, discount_factor)\n",
    "    \n",
    "    # loss is measured from error between current and newly expected Q values\n",
    "    loss = F.smooth_l1_loss(q_val, target)\n",
    "\n",
    "    # backpropagation of loss to Neural Network (PyTorch magic)\n",
    "    optimizer.zero_grad()\n",
    "    loss.backward()\n",
    "    optimizer.step()\n",
    "    \n",
    "    return loss.item() \n",
    "\n",
    "\n",
    "def run_episodes(train, model, memory, env, num_episodes, batch_size, discount_factor, learn_rate):\n",
    "    \n",
    "    optimizer = optim.Adam(model.parameters(), learn_rate)\n",
    "    \n",
    "    global_steps = 0  # Count the steps (do not reset at episode start, to compute epsilon)\n",
    "    episode_durations = []  #\n",
    "    for i in range(num_episodes):\n",
    "        \n",
    "        # sample a transition\n",
    "        s = env.reset()\n",
    "        duration = 0\n",
    "        done = False\n",
    "        while not done:\n",
    "            \n",
    "            a = select_action(model, s, epsilon=get_epsilon(global_steps))\n",
    "            s_next, r, done, _ = env.step(a)\n",
    "\n",
    "            # Push a transition\n",
    "            memory.push((s, a, r, s_next, done))\n",
    "            duration += 1\n",
    "            s = s_next\n",
    "            \n",
    "            # train model for a step\n",
    "            train(model, memory, optimizer, batch_size, discount_factor)\n",
    "            global_steps += 1\n",
    "            \n",
    "        episode_durations.append(duration)\n",
    "        \n",
    "    return episode_durations, global_steps\n",
    "\n",
    "def test_greedy(model, env, num_episodes, discount_factor, learn_rate):\n",
    "    \n",
    "    global_steps = 0  # Count the steps (do not reset at episode start, to compute epsilon)\n",
    "    episode_durations = []  #\n",
    "    \n",
    "    for i in range(num_episodes):\n",
    "        \n",
    "        # sample a transition\n",
    "        s = env.reset()\n",
    "        duration = 0\n",
    "        done = False\n",
    "        while not done:\n",
    "            \n",
    "            a = select_action(model, s, epsilon=0)\n",
    "            s_next, r, done, _ = env.step(a)\n",
    "\n",
    "            # Push a transition\n",
    "            duration += 1\n",
    "            s = s_next\n",
    "            \n",
    "            # train model for a step\n",
    "#             train(model, memory, optimizer, batch_size, discount_factor)\n",
    "            global_steps += 1\n",
    "            \n",
    "        episode_durations.append(duration)\n",
    "        \n",
    "    return episode_durations, np.mean(np.array(episode_durations))\n",
    "\n",
    "\n",
    "\n",
    "\n",
    "\n"
   ]
  },
  {
   "cell_type": "code",
   "execution_count": 63,
   "metadata": {},
   "outputs": [
    {
     "name": "stdout",
     "output_type": "stream",
     "text": [
      "Capacity:  10000\n"
     ]
    }
   ],
   "source": [
    "# Let's run it!\n",
    "num_episodes = 100\n",
    "batch_size = 64\n",
    "discount_factor = 0.8\n",
    "learn_rate = 1e-3\n",
    "memory = ReplayMemory(10000)\n",
    "num_hidden = 128\n",
    "seed = 42  # This is not randomly chosen\n",
    "\n",
    "# We will seed the algorithm (before initializing QNetwork!) for reproducability\n",
    "random.seed(seed)\n",
    "torch.manual_seed(seed)\n",
    "env.seed(seed)\n",
    "\n",
    "model = QNetwork(num_hidden)\n",
    "QN_learning, steps = run_episodes(train, model, memory, env, num_episodes, batch_size, discount_factor, learn_rate)\n",
    "QN_greedy, mean_duration = test_greedy(model, env, 100, discount_factor, learn_rate)\n"
   ]
  },
  {
   "cell_type": "markdown",
   "metadata": {},
   "source": [
    "# Tabular Dyna Q and Deep Dyna-Q "
   ]
  },
  {
   "cell_type": "code",
   "execution_count": 64,
   "metadata": {},
   "outputs": [],
   "source": [
    "# Dyna Q\n",
    "n = 10\n",
    "learning_rate = 0.5\n",
    "discount_factor = .8\n",
    "capacity = 10000\n",
    "experience_replay = True\n",
    "true_gradient = False\n",
    "batch_size = 64\n",
    "model_batch = False"
   ]
  },
  {
   "cell_type": "code",
   "execution_count": 65,
   "metadata": {},
   "outputs": [
    {
     "name": "stderr",
     "output_type": "stream",
     "text": [
      "100%|██████████| 1000/1000 [00:00<00:00, 1211.15it/s]\n"
     ]
    }
   ],
   "source": [
    "# Tabular Dyna Q\n",
    "title = 'Episode lengths Tabular Dyna-Q'\n",
    "tab_dynaQ = TabularDynaQ(env, n, discount_factor, lr=learning_rate, epsilon=0.2, deterministic=False)\n",
    "tab_dynaQ.learn_policy(1000)\n",
    "\n"
   ]
  },
  {
   "cell_type": "code",
   "execution_count": 66,
   "metadata": {},
   "outputs": [
    {
     "name": "stderr",
     "output_type": "stream",
     "text": [
      "  3%|▎         | 27/1000 [00:00<00:03, 249.55it/s]"
     ]
    },
    {
     "name": "stdout",
     "output_type": "stream",
     "text": [
      "Capacity:  10000\n"
     ]
    },
    {
     "name": "stderr",
     "output_type": "stream",
     "text": [
      "100%|██████████| 1000/1000 [00:16<00:00, 72.54it/s]\n"
     ]
    }
   ],
   "source": [
    "# Deep Dyna Q\n",
    "memory = ReplayMemory(capacity)\n",
    "deep_dynaQ = DeepDynaQ(env, planning_steps=n, discount_factor=discount_factor, lr=1e-3, epsilon=None, memory=memory, experience_replay=experience_replay, true_gradient=true_gradient, batch_size=batch_size, model_batch=model_batch)\n",
    "deep_dynaQ.learn_policy(1000)\n"
   ]
  },
  {
   "cell_type": "code",
   "execution_count": 67,
   "metadata": {},
   "outputs": [
    {
     "data": {
      "image/png": "[encoded data removed]",
      "text/plain": [
       "<Figure size 432x288 with 1 Axes>"
      ]
     },
     "metadata": {},
     "output_type": "display_data"
    }
   ],
   "source": [
    "# make plots\n",
    "plt.plot(smooth(QN_learning, 10), 'magenta', label = 'Baseline')\n",
    "plt.plot(smooth(tab_dynaQ.episode_lengths, 10), 'green', label = \"Tabular Dyna Q\")\n",
    "plt.plot(smooth(deep_dynaQ.episode_lengths, 10), 'blue', label = \"Deep Dyna Q\")\n",
    "plt.legend(loc='lower right')\n",
    "non_greedy_title = 'Length episode for non-greedy algorithms'\n",
    "plt.title(non_greedy_title)  # NB: lengths == returns\n",
    "plt.show()\n",
    "\n"
   ]
  },
  {
   "cell_type": "code",
   "execution_count": 68,
   "metadata": {},
   "outputs": [
    {
     "name": "stderr",
     "output_type": "stream",
     "text": [
      "100%|██████████| 100/100 [00:00<00:00, 134.62it/s]\n",
      "100%|██████████| 100/100 [00:02<00:00, 44.14it/s]\n"
     ]
    },
    {
     "data": {
      "image/png": "[encoded data removed]",
      "text/plain": [
       "<Figure size 432x288 with 1 Axes>"
      ]
     },
     "metadata": {},
     "output_type": "display_data"
    }
   ],
   "source": [
    "\n",
    "# Test the models\n",
    "\n",
    "tab_dynaQ.test_model_greedy(100)\n",
    "deep_dynaQ.test_model_greedy(100)\n",
    "\n",
    "# plot the test results\n",
    "plt.plot(smooth(QN_greedy, 10), 'magenta', label = 'Baseline')\n",
    "plt.plot(smooth(tab_dynaQ.episode_lengths, 10), 'green', label = \"Tabular Dyna Q\")\n",
    "plt.plot(smooth(deep_dynaQ.episode_lengths,10), 'blue', label = \"Deep Dyna Q\")\n",
    "plt.legend(loc = 'lower right')\n",
    "greedy_title = 'Length episode for greedy algorithms'\n",
    "plt.title(greedy_title)  # NB: lengths == returns\n",
    "plt.show()"
   ]
  },
  {
   "cell_type": "code",
   "execution_count": null,
   "metadata": {},
   "outputs": [],
   "source": []
  },
  {
   "cell_type": "code",
   "execution_count": null,
   "metadata": {},
   "outputs": [],
   "source": []
  },
  {
   "cell_type": "code",
   "execution_count": null,
   "metadata": {},
   "outputs": [],
   "source": []
  }
 ],
 "metadata": {
  "kernelspec": {
   "display_name": "Python 3",
   "language": "python",
   "name": "python3"
  },
  "language_info": {
   "codemirror_mode": {
    "name": "ipython",
    "version": 3
   },
   "file_extension": ".py",
   "mimetype": "text/x-python",
   "name": "python",
   "nbconvert_exporter": "python",
   "pygments_lexer": "ipython3",
   "version": "3.6.6"
  }
 },
 "nbformat": 4,
 "nbformat_minor": 2
}
